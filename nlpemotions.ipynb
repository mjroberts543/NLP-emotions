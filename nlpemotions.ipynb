{
 "cells": [
  {
   "cell_type": "code",
   "execution_count": 152,
   "metadata": {},
   "outputs": [],
   "source": [
    "import librosa\n",
    "import soundfile\n",
    "import os, glob, pickle\n",
    "import numpy as np\n",
    "from sklearn.model_selection import train_test_split\n",
    "from sklearn.neural_network import MLPClassifier\n",
    "from sklearn.metrics import accuracy_score, classification_report\n",
    "from sklearn.feature_extraction.text import CountVectorizer\n",
    "import pandas as pd\n",
    "import itertools\n",
    "from keras.backend import clear_session\n",
    "from keras.models import Sequential\n",
    "from keras import layers\n",
    "from keras.callbacks import EarlyStopping\n",
    "from tensorflow.keras.utils import to_categorical\n",
    "import matplotlib.pyplot as plt\n",
    "import keras\n",
    "import gensim.downloader\n",
    "from tensorflow.keras.preprocessing.text import Tokenizer\n",
    "from tensorflow.keras.preprocessing.sequence import pad_sequences\n",
    "from nltk.stem import WordNetLemmatizer\n",
    "from nltk.corpus import stopwords\n",
    "import nltk\n",
    "\n",
    "plt.style.use('ggplot')\n",
    "#nltk.download('wordnet')\n",
    "#nltk.download(\"stopwords\")\n",
    "stop_words = set(stopwords.words(\"english\"))\n",
    "\n",
    "def plot_history(history):\n",
    "    acc = history.history['accuracy']\n",
    "    val_acc = history.history['val_accuracy']\n",
    "    loss = history.history['loss']\n",
    "    val_loss = history.history['val_loss']\n",
    "    x = range(1, len(acc) + 1)\n",
    "\n",
    "    plt.figure(figsize=(12, 5))\n",
    "    plt.subplot(1, 2, 1)\n",
    "    plt.plot(x, acc, 'b', label='Training acc')\n",
    "    plt.plot(x, val_acc, 'r', label='Validation acc')\n",
    "    plt.title('Training and validation accuracy')\n",
    "    plt.legend()\n",
    "    plt.subplot(1, 2, 2)\n",
    "    plt.plot(x, loss, 'b', label='Training loss')\n",
    "    plt.plot(x, val_loss, 'r', label='Validation loss')\n",
    "    plt.title('Training and validation loss')\n",
    "    plt.legend()"
   ]
  },
  {
   "cell_type": "code",
   "execution_count": 153,
   "metadata": {},
   "outputs": [],
   "source": [
    "with open('./data.txt') as f:\n",
    "    sentences=[line[:-1].split(\";\") for line in f.readlines()]\n",
    "sentences[1999][1]='fear'"
   ]
  },
  {
   "cell_type": "code",
   "execution_count": 154,
   "metadata": {},
   "outputs": [],
   "source": [
    "df=pd.DataFrame(sentences)\n",
    "df=df.rename(columns={0:\"sentence\",1:\"emotion\"})\n",
    "\n",
    "set(df[\"emotion\"])\n",
    "dic={'anger':0, 'fear':1, 'joy':2, 'love':3, 'sadness':4, 'surprise':5}\n",
    "df['emotion']=[*map(dic.get, df['emotion'])]"
   ]
  },
  {
   "cell_type": "code",
   "execution_count": 155,
   "metadata": {},
   "outputs": [],
   "source": [
    "def remove_symbols(sentence):\n",
    "\treturn sentence.replace(\"\"\"!\"#$%&'()*+,،-./:;<=>1234567890؟?@[\\]^_`{|}~\"\"\",\"\")\n",
    "\n",
    "def lowercase(sentence):\n",
    "\treturn sentence.lower()\n",
    "\n",
    "lemmatizer=WordNetLemmatizer()\n",
    "def lemmatize(sentence):\n",
    "\treturn \" \".join([lemmatizer.lemmatize(word) for word in sentence.split(\" \")])\n",
    "\n",
    "def remove_stopwords(sentence):\n",
    "\treturn \" \".join([word for word in sentence.split(\" \") if word not in stop_words])\n",
    "\n",
    "df.sentence=df.sentence.apply(remove_symbols)\n",
    "df.sentence=df.sentence.apply(lowercase)\n",
    "df.sentence=df.sentence.apply(remove_stopwords)\n",
    "df.sentence=df.sentence.apply(lemmatize)"
   ]
  },
  {
   "cell_type": "code",
   "execution_count": 156,
   "metadata": {},
   "outputs": [],
   "source": [
    "sentences_train, sentences_test, emotion_train, emotion_test=train_test_split(df[\"sentence\"],df[\"emotion\"],test_size=.25)\n",
    "y_train=emotion_train\n",
    "y_test=emotion_test\n",
    "y_train=to_categorical(y_train)\n",
    "y_test=to_categorical(y_test)\n",
    "tokenizer = Tokenizer(oov_token='UNK')\n",
    "tokenizer.fit_on_texts(pd.concat([sentences_train, sentences_test], axis=0))\n",
    "sequences_train=tokenizer.texts_to_sequences(sentences_train)\n",
    "sequences_test=tokenizer.texts_to_sequences(sentences_test)\n",
    "maxsentencelength=max([len(sent) for sent in df[\"sentence\"]])\n",
    "pad_sequences_train=pad_sequences(sequences_train,maxsentencelength)\n",
    "pad_sequences_test=pad_sequences(sequences_test,maxsentencelength)\n",
    "X_train=pad_sequences_train\n",
    "X_test=pad_sequences_test"
   ]
  },
  {
   "cell_type": "code",
   "execution_count": 157,
   "metadata": {},
   "outputs": [],
   "source": [
    "#glove_vectors = gensim.downloader.load('glove-wiki-gigaword-300')\n",
    "dic_dim=len(tokenizer.word_index)\n",
    "em_dim=len(glove_vectors[\"test\"])\n",
    "\n",
    "embedding_matrix=np.zeros((dic_dim+1,em_dim))\n",
    "\n",
    "unk_count=0\n",
    "unk_words=[]\n",
    "unk_indices=[]\n",
    "for word, i in tokenizer.word_index.items():\n",
    "\ttry:\n",
    "\t\tembedding_matrix[i]=glove_vectors[word]\n",
    "\texcept:\n",
    "\t\tunk_words.append(word)\n",
    "\t\tunk_count=unk_count+1\n",
    "\t\tunk_indices.append(i)\n",
    "unk_indices=unk_indices[1:]\n",
    "unk_words=unk_words[1:]"
   ]
  },
  {
   "cell_type": "code",
   "execution_count": 158,
   "metadata": {},
   "outputs": [],
   "source": [
    "#Spellcheck!\n",
    "\n",
    "#import textdistance\n",
    "##spellchecked_indices=[np.argmin([textdistance.Jaccard(qval=2).distance(v,oov_word) for v in glove_vectors.index_to_key]) for oov_word in unk_words]\n",
    "#spellchecked_indices=pd.read_csv(\"oov_indices.txt\")\n",
    "#spellchecked_indices=list(spellchecked_indices[\"0\"])\n",
    "#len(spellchecked_indices)\n",
    "#spellchecked_words=[glove_vectors.index_to_key[ind] for ind in spellchecked_indices]\n",
    "#for i in range(len(unk_indices)):\n",
    "#\ttry:\n",
    "#\t\tembedding_matrix[unk_indices[i]]=glove_vectors[spellchecked_words[i]]\n",
    "#\texcept:\n",
    "#\t\tpass"
   ]
  },
  {
   "cell_type": "code",
   "execution_count": 159,
   "metadata": {},
   "outputs": [
    {
     "name": "stdout",
     "output_type": "stream",
     "text": [
      "Model: \"sequential\"\n",
      "_________________________________________________________________\n",
      "Layer (type)                 Output Shape              Param #   \n",
      "=================================================================\n",
      "embedding (Embedding)        (None, 218, 300)          1293000   \n",
      "_________________________________________________________________\n",
      "bidirectional (Bidirectional (None, 218, 100)          140400    \n",
      "_________________________________________________________________\n",
      "bidirectional_1 (Bidirection (None, 218, 50)           25200     \n",
      "_________________________________________________________________\n",
      "bidirectional_2 (Bidirection (None, 50)                15200     \n",
      "_________________________________________________________________\n",
      "dense (Dense)                (None, 6)                 306       \n",
      "=================================================================\n",
      "Total params: 1,474,106\n",
      "Trainable params: 181,106\n",
      "Non-trainable params: 1,293,000\n",
      "_________________________________________________________________\n"
     ]
    }
   ],
   "source": [
    "clear_session()\n",
    "callback = EarlyStopping(\n",
    "    monitor=\"val_loss\",\n",
    "    patience=4,\n",
    "    restore_best_weights=True,\n",
    ")\n",
    "model = Sequential()\n",
    "model.add(layers.Embedding(dic_dim+1, em_dim, input_length=X_train.shape[1], weights=[embedding_matrix], trainable=False))\n",
    "model.add(layers.Bidirectional(layers.LSTM(50, recurrent_dropout=.2,return_sequences=True)))\n",
    "model.add(layers.Bidirectional(layers.LSTM(25, recurrent_dropout=.2,return_sequences=True)))\n",
    "model.add(layers.Bidirectional(layers.LSTM(25, recurrent_dropout=.2)))\n",
    "model.add(layers.Dense(6, activation='sigmoid'))\n",
    "\n",
    "model.compile(loss=\"CategoricalCrossentropy\", \n",
    "            optimizer=keras.optimizers.Adam(learning_rate=.005), \n",
    "            metrics=['accuracy'])\n",
    "model.summary()\n"
   ]
  },
  {
   "cell_type": "code",
   "execution_count": 160,
   "metadata": {},
   "outputs": [
    {
     "name": "stdout",
     "output_type": "stream",
     "text": [
      "Epoch 1/200\n",
      "30/30 [==============================] - 40s 902ms/step - loss: 1.6149 - accuracy: 0.3403 - val_loss: 1.3645 - val_accuracy: 0.5080\n",
      "Epoch 2/200\n",
      "30/30 [==============================] - 25s 829ms/step - loss: 1.2874 - accuracy: 0.5354 - val_loss: 1.2006 - val_accuracy: 0.5380\n",
      "Epoch 3/200\n",
      "30/30 [==============================] - 25s 834ms/step - loss: 1.0586 - accuracy: 0.6260 - val_loss: 0.9176 - val_accuracy: 0.6740\n",
      "Epoch 4/200\n",
      "30/30 [==============================] - 25s 832ms/step - loss: 0.7484 - accuracy: 0.7514 - val_loss: 0.7656 - val_accuracy: 0.7200\n",
      "Epoch 5/200\n",
      "30/30 [==============================] - 25s 829ms/step - loss: 0.4797 - accuracy: 0.8461 - val_loss: 1.1681 - val_accuracy: 0.6220\n",
      "Epoch 6/200\n",
      "30/30 [==============================] - 25s 829ms/step - loss: 0.4435 - accuracy: 0.8660 - val_loss: 0.7718 - val_accuracy: 0.7760\n",
      "Epoch 7/200\n",
      "30/30 [==============================] - 25s 828ms/step - loss: 0.2543 - accuracy: 0.9230 - val_loss: 0.6343 - val_accuracy: 0.8280\n",
      "Epoch 8/200\n",
      "30/30 [==============================] - 25s 825ms/step - loss: 0.1763 - accuracy: 0.9435 - val_loss: 0.7135 - val_accuracy: 0.7940\n",
      "Epoch 9/200\n",
      "30/30 [==============================] - 25s 826ms/step - loss: 0.1461 - accuracy: 0.9567 - val_loss: 0.6863 - val_accuracy: 0.8120\n",
      "Epoch 10/200\n",
      "30/30 [==============================] - 25s 829ms/step - loss: 0.0830 - accuracy: 0.9782 - val_loss: 0.7873 - val_accuracy: 0.8100\n",
      "Epoch 11/200\n",
      "30/30 [==============================] - 25s 828ms/step - loss: 0.0706 - accuracy: 0.9792 - val_loss: 0.7489 - val_accuracy: 0.8280\n",
      "Training Accuracy: 0.9567\n",
      "Testing Accuracy:  0.8280\n"
     ]
    },
    {
     "data": {
      "image/png": "[encoded data removed]",
      "text/plain": [
       "<Figure size 864x360 with 2 Axes>"
      ]
     },
     "metadata": {},
     "output_type": "display_data"
    }
   ],
   "source": [
    "\n",
    "history = model.fit(X_train, y_train,\n",
    "                    epochs=200,\n",
    "                    verbose=True,\n",
    "                    validation_data=(X_test, y_test),\n",
    "                    batch_size=50,\n",
    "                    callbacks=[callback]\n",
    "                    )\n",
    "loss, accuracy = model.evaluate(X_train, y_train, verbose=False)\n",
    "print(\"Training Accuracy: {:.4f}\".format(accuracy))\n",
    "loss, accuracy = model.evaluate(X_test, y_test, verbose=False)\n",
    "print(\"Testing Accuracy:  {:.4f}\".format(accuracy))\n",
    "plot_history(history)"
   ]
  },
  {
   "cell_type": "code",
   "execution_count": 161,
   "metadata": {},
   "outputs": [
    {
     "name": "stdout",
     "output_type": "stream",
     "text": [
      "              precision    recall  f1-score   support\n",
      "\n",
      "           0       0.84      0.85      0.84        67\n",
      "           1       0.88      0.81      0.84        57\n",
      "           2       0.80      0.90      0.84       160\n",
      "           3       0.67      0.55      0.60        44\n",
      "           4       0.90      0.85      0.87       161\n",
      "           5       0.60      0.55      0.57        11\n",
      "\n",
      "    accuracy                           0.83       500\n",
      "   macro avg       0.78      0.75      0.76       500\n",
      "weighted avg       0.83      0.83      0.83       500\n",
      "\n"
     ]
    }
   ],
   "source": [
    "predicted = model.predict(X_test)\n",
    "y_pred = predicted.argmax(axis=-1)\n",
    "print(classification_report(emotion_test, y_pred))"
   ]
  }
 ],
 "metadata": {
  "kernelspec": {
   "display_name": "Python 3",
   "language": "python",
   "name": "python3"
  },
  "language_info": {
   "codemirror_mode": {
    "name": "ipython",
    "version": 3
   },
   "file_extension": ".py",
   "mimetype": "text/x-python",
   "name": "python",
   "nbconvert_exporter": "python",
   "pygments_lexer": "ipython3",
   "version": "3.9.1"
  },
  "orig_nbformat": 4,
  "vscode": {
   "interpreter": {
    "hash": "169987767c228537e4e2c35dd6f18e194f856f259cc3084cc52b214c9fc40b07"
   }
  }
 },
 "nbformat": 4,
 "nbformat_minor": 2
}
