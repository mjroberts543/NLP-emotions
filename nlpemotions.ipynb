{
 "cells": [
  {
   "cell_type": "code",
   "execution_count": 1,
   "metadata": {},
   "outputs": [
    {
     "name": "stdout",
     "output_type": "stream",
     "text": [
      "INFO:tensorflow:Enabling eager execution\n",
      "INFO:tensorflow:Enabling v2 tensorshape\n",
      "INFO:tensorflow:Enabling resource variables\n",
      "INFO:tensorflow:Enabling tensor equality\n",
      "INFO:tensorflow:Enabling control flow v2\n"
     ]
    }
   ],
   "source": [
    "import librosa\n",
    "import soundfile\n",
    "import os, glob, pickle\n",
    "import numpy as np\n",
    "from sklearn.model_selection import train_test_split\n",
    "from sklearn.neural_network import MLPClassifier\n",
    "from sklearn.metrics import accuracy_score, classification_report\n",
    "from sklearn.feature_extraction.text import CountVectorizer\n",
    "import pandas as pd\n",
    "import itertools\n",
    "from keras.backend import clear_session\n",
    "from keras.models import Sequential\n",
    "from keras import layers\n",
    "from keras.callbacks import EarlyStopping\n",
    "from tensorflow.keras.utils import to_categorical\n",
    "import matplotlib.pyplot as plt\n",
    "import keras\n",
    "import gensim.downloader\n",
    "from tensorflow.keras.preprocessing.text import Tokenizer\n",
    "from tensorflow.keras.preprocessing.sequence import pad_sequences\n",
    "from nltk.stem import WordNetLemmatizer\n",
    "from nltk.corpus import stopwords\n",
    "import nltk\n",
    "\n",
    "plt.style.use('ggplot')\n",
    "#nltk.download('wordnet')\n",
    "#nltk.download(\"stopwords\")\n",
    "stop_words = set(stopwords.words(\"english\"))\n",
    "\n",
    "def plot_history(history):\n",
    "    acc = history.history['accuracy']\n",
    "    val_acc = history.history['val_accuracy']\n",
    "    loss = history.history['loss']\n",
    "    val_loss = history.history['val_loss']\n",
    "    x = range(1, len(acc) + 1)\n",
    "\n",
    "    plt.figure(figsize=(12, 5))\n",
    "    plt.subplot(1, 2, 1)\n",
    "    plt.plot(x, acc, 'b', label='Training acc')\n",
    "    plt.plot(x, val_acc, 'r', label='Validation acc')\n",
    "    plt.title('Training and validation accuracy')\n",
    "    plt.legend()\n",
    "    plt.subplot(1, 2, 2)\n",
    "    plt.plot(x, loss, 'b', label='Training loss')\n",
    "    plt.plot(x, val_loss, 'r', label='Validation loss')\n",
    "    plt.title('Training and validation loss')\n",
    "    plt.legend()"
   ]
  },
  {
   "cell_type": "code",
   "execution_count": 2,
   "metadata": {},
   "outputs": [
    {
     "name": "stdout",
     "output_type": "stream",
     "text": [
      "{'sadness', 'anger', 'fear', 'joy', 'love', 'surprise'}\n"
     ]
    }
   ],
   "source": [
    "df=pd.read_csv(\"data.txt\",sep=\";\")\n",
    "print(set(df[\"emotion\"]))\n",
    "dic={'anger':0, 'fear':1, 'joy':2, 'love':3, 'sadness':4, 'surprise':5}\n",
    "df['emotion']=[*map(dic.get, df['emotion'])]"
   ]
  },
  {
   "cell_type": "code",
   "execution_count": 3,
   "metadata": {},
   "outputs": [],
   "source": [
    "def remove_symbols(sentence):\n",
    "\tsymbols=\"\"\"!\"#$%&'()*+,،-./:;<=>1234567890؟?@[\\]^_`{|}~\"\"\"\n",
    "\tfor sym in symbols:\n",
    "\t\tsentence=sentence.replace(sym,\"\")\n",
    "\treturn sentence\n",
    "\n",
    "def lowercase(sentence):\n",
    "\treturn sentence.lower()\n",
    "\n",
    "lemmatizer=WordNetLemmatizer()\n",
    "def lemmatize(sentence):\n",
    "\treturn \" \".join([lemmatizer.lemmatize(word) for word in sentence.split(\" \")])\n",
    "\n",
    "def remove_stopwords(sentence):\n",
    "\treturn \" \".join([word for word in sentence.split(\" \") if word not in stop_words])\n",
    "\n",
    "df.sentence=df.sentence.apply(remove_symbols)\n",
    "df.sentence=df.sentence.apply(lowercase)\n",
    "df.sentence=df.sentence.apply(remove_stopwords)\n",
    "df.sentence=df.sentence.apply(lemmatize)\n",
    "\n",
    "def normalize_sentence(sent):\n",
    "\treturn lemmatize(remove_stopwords(lowercase(remove_symbols(sent))))"
   ]
  },
  {
   "cell_type": "code",
   "execution_count": 4,
   "metadata": {},
   "outputs": [],
   "source": [
    "index = df[df.duplicated() == True].index\n",
    "df.drop(index, axis = 0, inplace = True)\n",
    "df.reset_index(inplace=True, drop = True)\n",
    "index = df[df.sentence.duplicated() == True].index\n",
    "df.drop(index, axis = 0, inplace = True)\n",
    "df.reset_index(inplace=True, drop = True)"
   ]
  },
  {
   "cell_type": "code",
   "execution_count": 5,
   "metadata": {},
   "outputs": [
    {
     "name": "stdout",
     "output_type": "stream",
     "text": [
      "Empty DataFrame\n",
      "Columns: [sentence, emotion]\n",
      "Index: []\n",
      "Empty DataFrame\n",
      "Columns: [sentence, emotion]\n",
      "Index: []\n"
     ]
    }
   ],
   "source": [
    "print(df[df.sentence.duplicated() == True])\n",
    "print(df[df.duplicated() == True])"
   ]
  },
  {
   "cell_type": "code",
   "execution_count": 6,
   "metadata": {},
   "outputs": [],
   "source": [
    "#remove short sentences?\n",
    "\n",
    "#inds=[]\n",
    "#for ind in range(df.shape[0]):\n",
    "\t#if len(df.sentence[ind].split())<3:\n",
    "\t#\tinds.append(ind)\n",
    "#df.drop(inds, axis = 0, inplace = True)\n",
    "#df.reset_index(inplace=True, drop = True)"
   ]
  },
  {
   "cell_type": "code",
   "execution_count": 7,
   "metadata": {},
   "outputs": [],
   "source": [
    "sentences_train, sentences_test, emotion_train, emotion_test=train_test_split(df[\"sentence\"],df[\"emotion\"],test_size=.25)\n",
    "y_train=emotion_train\n",
    "y_test=emotion_test\n",
    "y_train=to_categorical(y_train)\n",
    "y_test=to_categorical(y_test)\n",
    "tokenizer = Tokenizer(oov_token='UNK')\n",
    "tokenizer.fit_on_texts(pd.concat([sentences_train, sentences_test], axis=0))\n",
    "sequences_train=tokenizer.texts_to_sequences(sentences_train)\n",
    "sequences_test=tokenizer.texts_to_sequences(sentences_test)\n",
    "maxsentencelength=max([len(sent) for sent in df[\"sentence\"]])\n",
    "pad_sequences_train=pad_sequences(sequences_train,maxsentencelength)\n",
    "pad_sequences_test=pad_sequences(sequences_test,maxsentencelength)\n",
    "X_train=pad_sequences_train\n",
    "X_test=pad_sequences_test"
   ]
  },
  {
   "cell_type": "code",
   "execution_count": 8,
   "metadata": {},
   "outputs": [],
   "source": [
    "glove_vectors = gensim.downloader.load('glove-wiki-gigaword-300')\n",
    "dic_dim=len(tokenizer.word_index)\n",
    "em_dim=len(glove_vectors[\"test\"])\n",
    "\n",
    "embedding_matrix=np.zeros((dic_dim+1,em_dim))\n",
    "\n",
    "unk_count=0\n",
    "unk_words=[]\n",
    "unk_indices=[]\n",
    "for word, i in tokenizer.word_index.items():\n",
    "\ttry:\n",
    "\t\tembedding_matrix[i]=glove_vectors[word]\n",
    "\texcept:\n",
    "\t\tunk_words.append(word)\n",
    "\t\tunk_count=unk_count+1\n",
    "\t\tunk_indices.append(i)\n",
    "unk_indices=unk_indices[1:]\n",
    "unk_words=unk_words[1:]"
   ]
  },
  {
   "cell_type": "code",
   "execution_count": 9,
   "metadata": {},
   "outputs": [],
   "source": [
    "#Spellcheck!\n",
    "\n",
    "#import textdistance\n",
    "##spellchecked_indices=[np.argmin([textdistance.Jaccard(qval=2).distance(v,oov_word) for v in glove_vectors.index_to_key]) for oov_word in unk_words]\n",
    "#spellchecked_indices=pd.read_csv(\"oov_indices.txt\")\n",
    "#spellchecked_indices=list(spellchecked_indices[\"0\"])\n",
    "#len(spellchecked_indices)\n",
    "#spellchecked_words=[glove_vectors.index_to_key[ind] for ind in spellchecked_indices]\n",
    "#for i in range(len(unk_indices)):\n",
    "#\ttry:\n",
    "#\t\tembedding_matrix[unk_indices[i]]=glove_vectors[spellchecked_words[i]]\n",
    "#\texcept:\n",
    "#\t\tpass"
   ]
  },
  {
   "cell_type": "code",
   "execution_count": 12,
   "metadata": {},
   "outputs": [
    {
     "name": "stdout",
     "output_type": "stream",
     "text": [
      "Model: \"sequential\"\n",
      "_________________________________________________________________\n",
      "Layer (type)                 Output Shape              Param #   \n",
      "=================================================================\n",
      "embedding (Embedding)        (None, 229, 300)          4044000   \n",
      "_________________________________________________________________\n",
      "bidirectional (Bidirectional (None, 229, 40)           51360     \n",
      "_________________________________________________________________\n",
      "bidirectional_1 (Bidirection (None, 229, 20)           4080      \n",
      "_________________________________________________________________\n",
      "bidirectional_2 (Bidirection (None, 20)                2480      \n",
      "_________________________________________________________________\n",
      "dense (Dense)                (None, 6)                 126       \n",
      "=================================================================\n",
      "Total params: 4,102,046\n",
      "Trainable params: 58,046\n",
      "Non-trainable params: 4,044,000\n",
      "_________________________________________________________________\n"
     ]
    }
   ],
   "source": [
    "clear_session()\n",
    "callback = EarlyStopping(\n",
    "    monitor=\"val_loss\",\n",
    "    patience=4,\n",
    "    restore_best_weights=True,\n",
    ")\n",
    "model = Sequential()\n",
    "model.add(layers.Embedding(dic_dim+1, em_dim, input_length=X_train.shape[1], weights=[embedding_matrix], trainable=False))\n",
    "model.add(layers.Bidirectional(layers.LSTM(20, recurrent_dropout=.2,return_sequences=True)))\n",
    "model.add(layers.Bidirectional(layers.LSTM(10, recurrent_dropout=.2,return_sequences=True)))\n",
    "model.add(layers.Bidirectional(layers.LSTM(10, recurrent_dropout=.2)))\n",
    "model.add(layers.Dense(6, activation='sigmoid'))\n",
    "\n",
    "model.compile(loss=\"CategoricalCrossentropy\", \n",
    "            optimizer=keras.optimizers.Adam(learning_rate=.001), \n",
    "            metrics=['accuracy'])\n",
    "model.summary()\n"
   ]
  },
  {
   "cell_type": "code",
   "execution_count": 13,
   "metadata": {},
   "outputs": [
    {
     "name": "stdout",
     "output_type": "stream",
     "text": [
      "Epoch 1/200\n",
      "239/239 [==============================] - 121s 447ms/step - loss: 1.5207 - accuracy: 0.3997 - val_loss: 1.1796 - val_accuracy: 0.5428\n",
      "Epoch 2/200\n",
      "239/239 [==============================] - 108s 453ms/step - loss: 1.0682 - accuracy: 0.6031 - val_loss: 0.8387 - val_accuracy: 0.7136\n",
      "Epoch 3/200\n",
      "239/239 [==============================] - 107s 449ms/step - loss: 0.7212 - accuracy: 0.7595 - val_loss: 0.6259 - val_accuracy: 0.7851\n",
      "Epoch 4/200\n",
      "239/239 [==============================] - 107s 446ms/step - loss: 0.5260 - accuracy: 0.8168 - val_loss: 0.5735 - val_accuracy: 0.7892\n",
      "Epoch 5/200\n",
      "239/239 [==============================] - 106s 443ms/step - loss: 0.4062 - accuracy: 0.8626 - val_loss: 0.4324 - val_accuracy: 0.8526\n",
      "Epoch 6/200\n",
      "239/239 [==============================] - 104s 437ms/step - loss: 0.2916 - accuracy: 0.9121 - val_loss: 0.4049 - val_accuracy: 0.8650\n",
      "Epoch 7/200\n",
      "239/239 [==============================] - 105s 440ms/step - loss: 0.2563 - accuracy: 0.9186 - val_loss: 0.3804 - val_accuracy: 0.8736\n",
      "Epoch 8/200\n",
      "239/239 [==============================] - 106s 443ms/step - loss: 0.2142 - accuracy: 0.9355 - val_loss: 0.3890 - val_accuracy: 0.8753\n",
      "Epoch 9/200\n",
      "239/239 [==============================] - 105s 440ms/step - loss: 0.1995 - accuracy: 0.9302 - val_loss: 0.3320 - val_accuracy: 0.8864\n",
      "Epoch 10/200\n",
      "239/239 [==============================] - 106s 442ms/step - loss: 0.1728 - accuracy: 0.9413 - val_loss: 0.3500 - val_accuracy: 0.8884\n",
      "Epoch 11/200\n",
      "239/239 [==============================] - 105s 441ms/step - loss: 0.1434 - accuracy: 0.9517 - val_loss: 0.3445 - val_accuracy: 0.8864\n",
      "Epoch 12/200\n",
      "239/239 [==============================] - 104s 436ms/step - loss: 0.1221 - accuracy: 0.9575 - val_loss: 0.3439 - val_accuracy: 0.8899\n",
      "Epoch 13/200\n",
      "239/239 [==============================] - 104s 436ms/step - loss: 0.1165 - accuracy: 0.9611 - val_loss: 0.3381 - val_accuracy: 0.8907\n",
      "Training Accuracy: 0.9504\n",
      "Testing Accuracy:  0.8864\n"
     ]
    },
    {
     "data": {
      "image/png": "[encoded data removed]",
      "text/plain": [
       "<Figure size 864x360 with 2 Axes>"
      ]
     },
     "metadata": {},
     "output_type": "display_data"
    }
   ],
   "source": [
    "\n",
    "history = model.fit(X_train, y_train,\n",
    "                    epochs=200,\n",
    "                    verbose=True,\n",
    "                    validation_data=(X_test, y_test),\n",
    "                    batch_size=50,\n",
    "                    callbacks=[callback]\n",
    "                    )\n",
    "loss, accuracy = model.evaluate(X_train, y_train, verbose=False)\n",
    "print(\"Training Accuracy: {:.4f}\".format(accuracy))\n",
    "loss, accuracy = model.evaluate(X_test, y_test, verbose=False)\n",
    "print(\"Testing Accuracy:  {:.4f}\".format(accuracy))\n",
    "plot_history(history)"
   ]
  },
  {
   "cell_type": "code",
   "execution_count": 14,
   "metadata": {},
   "outputs": [
    {
     "name": "stdout",
     "output_type": "stream",
     "text": [
      "              precision    recall  f1-score   support\n",
      "\n",
      "           0       0.86      0.91      0.88       534\n",
      "           1       0.90      0.80      0.85       485\n",
      "           2       0.89      0.93      0.91      1302\n",
      "           3       0.81      0.81      0.81       343\n",
      "           4       0.95      0.90      0.92      1156\n",
      "           5       0.68      0.85      0.75       150\n",
      "\n",
      "    accuracy                           0.89      3970\n",
      "   macro avg       0.85      0.86      0.85      3970\n",
      "weighted avg       0.89      0.89      0.89      3970\n",
      "\n"
     ]
    }
   ],
   "source": [
    "predicted = model.predict(X_test)\n",
    "y_pred = predicted.argmax(axis=-1)\n",
    "print(classification_report(emotion_test, y_pred))"
   ]
  },
  {
   "cell_type": "code",
   "execution_count": null,
   "metadata": {},
   "outputs": [],
   "source": []
  }
 ],
 "metadata": {
  "kernelspec": {
   "display_name": "Python 3",
   "language": "python",
   "name": "python3"
  },
  "language_info": {
   "codemirror_mode": {
    "name": "ipython",
    "version": 3
   },
   "file_extension": ".py",
   "mimetype": "text/x-python",
   "name": "python",
   "nbconvert_exporter": "python",
   "pygments_lexer": "ipython3",
   "version": "3.9.1"
  },
  "orig_nbformat": 4,
  "vscode": {
   "interpreter": {
    "hash": "169987767c228537e4e2c35dd6f18e194f856f259cc3084cc52b214c9fc40b07"
   }
  }
 },
 "nbformat": 4,
 "nbformat_minor": 2
}
